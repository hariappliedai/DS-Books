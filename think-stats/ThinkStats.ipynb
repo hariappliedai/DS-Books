{
  "nbformat": 4,
  "nbformat_minor": 0,
  "metadata": {
    "colab": {
      "name": "ThinkStats.ipynb",
      "provenance": [],
      "include_colab_link": true
    },
    "kernelspec": {
      "name": "python3",
      "display_name": "Python 3"
    },
    "language_info": {
      "name": "python"
    }
  },
  "cells": [
    {
      "cell_type": "markdown",
      "metadata": {
        "id": "view-in-github",
        "colab_type": "text"
      },
      "source": [
        "<a href=\"https://colab.research.google.com/github/hariappliedai/DS-Books/blob/main/think-stats/ThinkStats.ipynb\" target=\"_parent\"><img src=\"https://colab.research.google.com/assets/colab-badge.svg\" alt=\"Open In Colab\"/></a>"
      ]
    },
    {
      "cell_type": "markdown",
      "metadata": {
        "id": "LeYJ40Sa_mGF"
      },
      "source": [
        "# Chapter 1\n",
        "# Statistical thinking for programmers"
      ]
    },
    {
      "cell_type": "markdown",
      "metadata": {
        "id": "xCxS2bCkAMxN"
      },
      "source": [
        "**Probability** is the study of random events. Most people have an intuitive\n",
        "understanding of degrees of probability, which is why you can use\n",
        "words like “probably” and “unlikely” without special training, but we\n",
        "will talk about how to make quantitative claims about those degrees.  \n",
        "\n",
        "**Statistics** is the discipline of using data samples to support claims about\n",
        "populations. Most statistical analysis is based on probability, which is\n",
        "why these pieces are usually presented together.  \n",
        "\n",
        "**Computation** is a tool that is well-suited to quantitative analysis, and\n",
        "computers are commonly used to process statistics. Also, computational\n",
        "experiments are useful for exploring concepts in probability and\n",
        "statistics."
      ]
    },
    {
      "cell_type": "markdown",
      "metadata": {
        "id": "n5yxhpW2BNg-"
      },
      "source": [
        "## 1.1 Do first babies arrive late?\n",
        "\n",
        "If you Google this question, you will find plenty of discussion. Some people\n",
        "claim it’s true, others say it’s a myth, and some people say it’s the other way\n",
        "around: first babies come early.  \n",
        "In many of these discussions, people provide data to support their claims. I\n",
        "found many examples like these:\n",
        "\n",
        ">“My two friends that have given birth recently to their first babies,\n",
        "BOTH went almost 2 weeks overdue before going into\n",
        "labour or being induced.”  \n",
        "“My first one came 2 weeks late and now I think the second one\n",
        "is going to come out two weeks early!!”  \n",
        "“I don’t think that can be true because my sister was my\n",
        "mother’s first and she was early, as with many of my cousins.”  \n",
        "\n",
        "Reports like these are called **anecdotal evidence** because they are based on\n",
        "data that is unpublished and usually personal. In casual conversation, there\n",
        "is nothing wrong with anecdotes, so I don’t mean to pick on the people I\n",
        "quoted.\n",
        "\n",
        "But we might want evidence that is more persuasive and an answer that is\n",
        "more reliable. By those standards, anecdotal evidence usually fails, because: \n",
        "\n",
        "**Small number of observations**: If the gestation period is longer for first babies, the difference is probably small compared to the natural variation.\n",
        "In that case, we might have to compare a large number of pregnancies\n",
        "to be sure that a difference exists.  \n",
        "**Selection bias**: People who join a discussion of this question might be interested because their first babies were late. In that case the process of\n",
        "selecting data would bias the results.  \n",
        "**Confirmation bias**: People who believe the claim might be more likely to\n",
        "contribute examples that confirm it. People who doubt the claim are\n",
        "more likely to cite counterexamples.  \n",
        "**Inaccuracy**: Anecdotes are often personal stories, and often misremembered,\n",
        "misrepresented, repeated inaccurately, etc. \n",
        " \n",
        "So how can we do better?"
      ]
    }
  ]
}